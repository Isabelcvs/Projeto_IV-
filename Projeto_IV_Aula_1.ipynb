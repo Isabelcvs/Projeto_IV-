{
  "nbformat": 4,
  "nbformat_minor": 0,
  "metadata": {
    "colab": {
      "provenance": [],
      "authorship_tag": "ABX9TyOp/a/hmq0+gqahv5whhnj4",
      "include_colab_link": true
    },
    "kernelspec": {
      "name": "python3",
      "display_name": "Python 3"
    },
    "language_info": {
      "name": "python"
    }
  },
  "cells": [
    {
      "cell_type": "markdown",
      "metadata": {
        "id": "view-in-github",
        "colab_type": "text"
      },
      "source": [
        "<a href=\"https://colab.research.google.com/github/Isabelcvs/Projeto_IV-/blob/main/Projeto_IV_Aula_1.ipynb\" target=\"_parent\"><img src=\"https://colab.research.google.com/assets/colab-badge.svg\" alt=\"Open In Colab\"/></a>"
      ]
    },
    {
      "cell_type": "markdown",
      "source": [
        "<img src=\"https://raw.githubusercontent.com/Isabelcvs/Projeto_IV-/main/mackenzie_logo.jpg\"\n",
        "width=\"25%\" align=\"right\">\n",
        "\n",
        "# **PROJETO APLICADO IV - Ciência de Dados EaD - 2025/02**\n",
        "\n",
        "\n",
        "# **Entrega 1**\n",
        "\n",
        "---\n"
      ],
      "metadata": {
        "id": "ckbH0RMSPNI1"
      }
    },
    {
      "cell_type": "markdown",
      "source": [
        "# **Titulo do Projeto**: Análise da Dinâmica do Emprego Formal no Brasil: Um Estudo com Dados do Novo CAGED - Junho de 2025\n",
        "\n",
        "# ---"
      ],
      "metadata": {
        "id": "CUDpYl7CSY6V"
      }
    },
    {
      "cell_type": "code",
      "source": [
        "#@title **Identificação do Grupo e Opção do Projeto**\n",
        "\n",
        "#@markdown Integrantes do Grupo, nome completo em ordem alfabética (*informe: \\<nome\\>, \\<matrícula\\>*)\n",
        "Aluno1 = 'BRENDA LOUIZE DE O. SOUSA CABRAL, 10424949' #@param {type:\"string\"}\n",
        "Aluno2 = 'CRISTINA ALMEIDA DA SILVA, 10424207' #@param {type:\"string\"}\n",
        "Aluno3 = 'ÉLIDA ROSA DE PAIVA SOUZA, 10424468' #@param {type:\"string\"}\n",
        "Aluno4 = 'ISABEL CABRAL VIEIRA DE SOUSA, 1042479' #@param {type:\"string\"}"
      ],
      "metadata": {
        "id": "QNFWySTbQVwT"
      },
      "execution_count": 11,
      "outputs": []
    },
    {
      "cell_type": "markdown",
      "source": [
        "# **1. Introdução** #\n",
        "\n",
        "<div align=\"justify\"> <p> O emprego formal, regido pela Consolidação das Leis do Trabalho (CLT), constitui um dos principais indicadores do dinamismo econômico e social, por refletir variações na atividade produtiva, na renda e no consumo. No Brasil, o Novo Cadastro Geral de Empregados e Desempregados (Novo CAGED) consolida mensalmente, a partir do eSocial, informações de admissões, desligamentos, saldos e estoques de vínculos celetistas.\n",
        "\n",
        "Este projeto situa-se na área de Ciência de Dados aplicada à Economia do Trabalho e Políticas Públicas, com foco na análise exploratória e visualização de dados oficiais. O problema a ser enfrentado é a complexidade na organização e interpretação das bases do Novo CAGED, que são extensas, granulares e distribuídas em diferentes formatos (planilhas e relatórios em PDF).\n",
        "\n",
        "O recorte de junho/2025 é especialmente relevante, pois o país registrou saldo positivo de +166.621 postos de trabalho, com 2.139.182 admissões e 1.972.561 desligamentos, elevando o estoque total para 48.419.937 vínculos ativos. Diante disso, buscamos responder: **Quais setores e regiões impulsionaram a criação de empregos? Qual o perfil predominante dos vínculos criados? Como os resultados dialogam com o acumulado do ano e com os últimos 12 meses?**\n"
      ],
      "metadata": {
        "id": "HbbJNMWTS68r"
      }
    },
    {
      "cell_type": "markdown",
      "source": [
        "# **1.1. Motivações e justificativa**\n",
        "<div align=\"justify\"> <p>A análise do Novo CAGED no recorte de junho de 2025 é relevante porque o emprego formal funciona como indicador-síntese do dinamismo econômico e social: acompanha a atividade produtiva, afeta renda e consumo e retroalimenta políticas de qualificação e proteção social. O mês analisado apresentou saldo positivo de vínculos e expansão disseminada por setores e regiões, configurando um cenário propício para investigar onde e com que intensidade o mercado se expande e quem se beneficia (sexo, faixa etária, escolaridade e faixas salariais), com base em dados oficiais (BRASIL/MTE, 2025). Além disso, o tema está diretamente alinhado à ODS 8 - Trabalho Decente e Crescimento Econômico e, de modo transversal, às ODS 5 e 10, ao permitir monitorar assimetrias de inserção no mercado de trabalho.\n",
        "\n",
        "A relevância deste projeto decorre de três dimensões complementares: **(i)** Valor público da informação - a leitura tempestiva da evolução do emprego formal subsidia políticas de estímulo, qualificação profissional e proteção social, com priorização por setor e território (regiões, UFs e municípios); **(ii)** Valor privado - empresas e entidades setoriais podem balizar estratégias de expansão, recrutamento e retenção com base em tendências de contratação e rotatividade; **(iii)** Valor científico-educacional - ao transformar dados administrativos em conhecimento aplicado, o projeto fortalece a formação em Ciência de Dados (curadoria, modelagem, validação e comunicação de resultados) e consolida a cultura de dados em instituições públicas e privadas.\n",
        "\n",
        "O potencial de aplicabilidade é elevado porque a proposta entrega um pipeline replicável e escalável, composto por: **(i) **ingestão e organização das fontes oficiais (PDF e planilha); **(ii)** padronização e limpeza (cabeçalhos multilinha, tipagem, metadados); **(iii)** integração e checagens de consistência entre planilha e sumário; **(iv)** derivação de indicadores operacionais (variação relativa, taxas por estoque, rankings setorial-regionais, mapas de calor municipais); e **(v)** visualizações públicas com notas metodológicas. Esse fluxo pode ser executado mensalmente, alimentando observatórios locais do trabalho, relatórios de secretarias e painéis de organizações da sociedade civil, além de servir como roteiro didático em disciplinas e projetos futuros.\n",
        "\n",
        "A justificativa reconhece limitações inerentes ao uso de dados administrativos - diferenças entre valores 'com ajuste' e 'sem ajuste', defasagens por retificações e regras de elegibilidade em alguns recortes — e propõe mitigações: validação cruzada com o Sumário Executivo, padronização de metadados e explicitação das notas técnicas nos produtos finais.\n",
        "\n",
        "Desse modo, o projeto combina relevância social, ganho formativo e aplicabilidade prática, cumprindo a função acadêmica e a entrega extensionista ao alinhar-se às ODS e compartilhar publicamente seus resultados com a comunidade.\n"
      ],
      "metadata": {
        "id": "SQHsRfhhTBtp"
      }
    },
    {
      "cell_type": "markdown",
      "source": [
        "# **1.2. Objetivos**\n",
        "**Objetivo Geral**\n",
        "*  Analisar a movimentação do emprego formal no Brasil em junho/2025 com base nos microdados do Novo CAGED e no sumário executivo oficial.\n",
        "\n",
        "\n",
        "**Objetivos específicos**\n",
        "*   Quantificar e comparar os saldos por setores, regiões e UFs;\n",
        "*   Caracterizar o perfil dos vínculos criados (sexo, idade, escolaridade, faixa salarial);\n",
        "*   Produzir visualizações e relatórios replicáveis para acompanhamento mensal;\n",
        "*   Propor indicadores sintéticos (p. ex. “calor setorial-regional” e “saldo per capita municipal”);\n",
        "*   Documentar um fluxo de análise reprodutível, útil tanto para gestores públicos quanto privados;"
      ],
      "metadata": {
        "id": "XL23dx2-U8Mq"
      }
    },
    {
      "cell_type": "markdown",
      "source": [
        "# **1.3. Descrição da base de dados**\n",
        "<div align=\"justify\"> <p>\n",
        "Serão analisados os fluxos de movimentação (admissões, desligamentos e saldo) e o estoque de vínculos formais referentes a junho/2025, bem como as janelas de acumulado do ano (jan–jun/2025) e de últimos 12 meses (jul/2024–jun/2025). Sempre que presentes no sumário oficial, serão incorporados recortes por sexo, faixa etária, escolaridade e faixa salarial, além de salário médio de admissão. A análise integra duas fontes complementares:\n",
        "\n",
        "a) **Sumário Executivo – Junho/2025 (PDF):** documento oficial do Ministério do Trabalho e Emprego que sintetiza os resultados nacionais e principais recortes setoriais, regionais e de perfil dos vínculos.\n",
        "\n",
        "b) **Planilha “3-tabelas_Junho de 2025 – Site.xlsx”:** arquivo oficial em Excel, contendo:\n",
        "\n",
        "* **Tabela 1:** resultados agregados por grandes grupamentos de atividades, em três janelas temporais (mês, acumulado do ano e últimos 12 meses);\n",
        "* **Tabela 3:** detalhamento por município, com saldos e variação relativa\n",
        "* **Tabela 5:** série histórica mensal desde 2020.\n",
        "\n",
        "Ambas as bases são de periodicidade mensal, consolidadas a partir do eSocial e disponibilizadas pelo Ministério do Trabalho e Emprego (MTE). O foco do projeto é junho/2025, com comparações ao acumulado do ano e aos últimos 12 meses.\n",
        "\n"
      ],
      "metadata": {
        "id": "zIv1eGvRWwcr"
      }
    },
    {
      "cell_type": "markdown",
      "source": [
        "# **Referências**\n",
        "\n",
        "BRASIL. Ministério do Trabalho e Emprego. Novo CAGED: Sumário Executivo — Junho de 2025. Brasília, 2025. Disponível em: https://www.gov.br/trabalho-e-emprego/pt-br/assuntos/estatisticas-trabalho/novo-caged/2025/junho/sumario-executivo_junho-de-2025.pdf. Acesso em: 27 ago. 2025.\n",
        "\n",
        "<br>\n",
        "\n",
        "BRASIL. Ministério do Trabalho e Emprego. Novo CAGED — Tabelas de junho de 2025 (planilha Excel). Brasília, 2025. Arquivo: 3-tabelas_Junho de 2025 – Site.xlsx. Acesso em: 27 ago. 2025.\n"
      ],
      "metadata": {
        "id": "sEiuWIISZFff"
      }
    }
  ]
}